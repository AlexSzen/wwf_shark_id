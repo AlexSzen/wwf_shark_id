{
 "cells": [
  {
   "cell_type": "code",
   "execution_count": 19,
   "metadata": {},
   "outputs": [],
   "source": [
    "import numpy as np\n",
    "import matplotlib.pyplot as plt\n",
    "import torch\n",
    "import torchvision\n",
    "import torchvision.transforms as transforms\n",
    "import torchvision.datasets as datasets\n",
    "import torchvision.models as models"
   ]
  },
  {
   "cell_type": "code",
   "execution_count": 44,
   "metadata": {},
   "outputs": [],
   "source": [
    "def sigmoid(x):\n",
    "    \n",
    "    return 1/(1+np.exp(-x))"
   ]
  },
  {
   "cell_type": "code",
   "execution_count": 31,
   "metadata": {},
   "outputs": [],
   "source": [
    "normalize = transforms.Normalize(mean=[0.485, 0.456, 0.406],\n",
    "                                 std=[0.229, 0.224, 0.225])\n",
    "\n",
    "dset = datasets.ImageFolder('/Users/alex/Desktop/Projects/wwf_sharks/imagenet_images',\n",
    "            transforms.Compose([\n",
    "            transforms.Resize(256),\n",
    "            transforms.CenterCrop(224),\n",
    "            transforms.ToTensor(),\n",
    "            normalize,\n",
    "        ]))"
   ]
  },
  {
   "cell_type": "code",
   "execution_count": 32,
   "metadata": {},
   "outputs": [
    {
     "data": {
      "text/plain": [
       "5909"
      ]
     },
     "execution_count": 32,
     "metadata": {},
     "output_type": "execute_result"
    }
   ],
   "source": [
    "len(dset)"
   ]
  },
  {
   "cell_type": "code",
   "execution_count": 72,
   "metadata": {},
   "outputs": [],
   "source": [
    "i=1000\n",
    "a,b = dset[i]"
   ]
  },
  {
   "cell_type": "code",
   "execution_count": 73,
   "metadata": {},
   "outputs": [
    {
     "name": "stderr",
     "output_type": "stream",
     "text": [
      "Clipping input data to the valid range for imshow with RGB data ([0..1] for floats or [0..255] for integers).\n"
     ]
    },
    {
     "data": {
      "text/plain": [
       "<matplotlib.image.AxesImage at 0x12ab58860>"
      ]
     },
     "execution_count": 73,
     "metadata": {},
     "output_type": "execute_result"
    },
    {
     "data": {
      "image/png": "[encoded data removed]",
      "text/plain": [
       "<Figure size 432x288 with 1 Axes>"
      ]
     },
     "metadata": {
      "needs_background": "light"
     },
     "output_type": "display_data"
    }
   ],
   "source": [
    "plt.imshow(  a.permute(1, 2, 0)  )\n"
   ]
  },
  {
   "cell_type": "code",
   "execution_count": 74,
   "metadata": {},
   "outputs": [],
   "source": [
    "a=a.unsqueeze(dim=0)"
   ]
  },
  {
   "cell_type": "code",
   "execution_count": 75,
   "metadata": {},
   "outputs": [],
   "source": [
    "#resnet50 = models.resnet50(pretrained=True)\n"
   ]
  },
  {
   "cell_type": "code",
   "execution_count": 83,
   "metadata": {},
   "outputs": [],
   "source": [
    "out = resnet50(a)\n",
    "out = out.detach().numpy()"
   ]
  },
  {
   "cell_type": "code",
   "execution_count": 84,
   "metadata": {},
   "outputs": [],
   "source": [
    "sout = sigmoid(out)"
   ]
  },
  {
   "cell_type": "code",
   "execution_count": 85,
   "metadata": {},
   "outputs": [],
   "source": [
    "amax = np.argmax(out)"
   ]
  },
  {
   "cell_type": "code",
   "execution_count": 86,
   "metadata": {},
   "outputs": [
    {
     "data": {
      "text/plain": [
       "0.88627476"
      ]
     },
     "execution_count": 86,
     "metadata": {},
     "output_type": "execute_result"
    }
   ],
   "source": [
    "sout[0,amax]"
   ]
  },
  {
   "cell_type": "code",
   "execution_count": 87,
   "metadata": {},
   "outputs": [
    {
     "data": {
      "text/plain": [
       "463"
      ]
     },
     "execution_count": 87,
     "metadata": {},
     "output_type": "execute_result"
    }
   ],
   "source": [
    "amax"
   ]
  },
  {
   "cell_type": "code",
   "execution_count": 95,
   "metadata": {},
   "outputs": [],
   "source": [
    "outs = []\n",
    "for i in range(0,len(dset),50):\n",
    "    inp, lab = dset[i]\n",
    "    inp = inp.unsqueeze(0)\n",
    "    out = resnet50(inp).detach().numpy()\n",
    "    outs.append(np.argmax(out))"
   ]
  },
  {
   "cell_type": "code",
   "execution_count": 96,
   "metadata": {},
   "outputs": [
    {
     "data": {
      "text/plain": [
       "119"
      ]
     },
     "execution_count": 96,
     "metadata": {},
     "output_type": "execute_result"
    }
   ],
   "source": [
    "len(outs)"
   ]
  },
  {
   "cell_type": "code",
   "execution_count": 97,
   "metadata": {},
   "outputs": [
    {
     "data": {
      "text/plain": [
       "[463,\n",
       " 463,\n",
       " 600,\n",
       " 463,\n",
       " 463,\n",
       " 600,\n",
       " 463,\n",
       " 463,\n",
       " 731,\n",
       " 463,\n",
       " 463,\n",
       " 463,\n",
       " 463,\n",
       " 463,\n",
       " 463,\n",
       " 600,\n",
       " 600,\n",
       " 463,\n",
       " 463,\n",
       " 463,\n",
       " 463,\n",
       " 600,\n",
       " 600,\n",
       " 463,\n",
       " 600,\n",
       " 463,\n",
       " 463,\n",
       " 463,\n",
       " 463,\n",
       " 463,\n",
       " 600,\n",
       " 463,\n",
       " 463,\n",
       " 600,\n",
       " 600,\n",
       " 463,\n",
       " 600,\n",
       " 463,\n",
       " 600,\n",
       " 600,\n",
       " 463,\n",
       " 463,\n",
       " 600,\n",
       " 463,\n",
       " 600,\n",
       " 463,\n",
       " 463,\n",
       " 463,\n",
       " 463,\n",
       " 463,\n",
       " 600,\n",
       " 852,\n",
       " 600,\n",
       " 600,\n",
       " 463,\n",
       " 463,\n",
       " 600,\n",
       " 600,\n",
       " 463,\n",
       " 463,\n",
       " 600,\n",
       " 600,\n",
       " 463,\n",
       " 600,\n",
       " 463,\n",
       " 600,\n",
       " 463,\n",
       " 463,\n",
       " 600,\n",
       " 463,\n",
       " 463,\n",
       " 600,\n",
       " 463,\n",
       " 463,\n",
       " 463,\n",
       " 463,\n",
       " 463,\n",
       " 463,\n",
       " 600,\n",
       " 600,\n",
       " 600,\n",
       " 600,\n",
       " 463,\n",
       " 600,\n",
       " 600,\n",
       " 600,\n",
       " 463,\n",
       " 600,\n",
       " 600,\n",
       " 463,\n",
       " 463,\n",
       " 600,\n",
       " 463,\n",
       " 600,\n",
       " 600,\n",
       " 463,\n",
       " 463,\n",
       " 463,\n",
       " 463,\n",
       " 463,\n",
       " 600,\n",
       " 600,\n",
       " 600,\n",
       " 600,\n",
       " 463,\n",
       " 463,\n",
       " 600,\n",
       " 463,\n",
       " 600,\n",
       " 463,\n",
       " 600,\n",
       " 463,\n",
       " 600,\n",
       " 463,\n",
       " 463,\n",
       " 600,\n",
       " 600,\n",
       " 600,\n",
       " 600]"
      ]
     },
     "execution_count": 97,
     "metadata": {},
     "output_type": "execute_result"
    }
   ],
   "source": [
    "outs"
   ]
  },
  {
   "cell_type": "code",
   "execution_count": null,
   "metadata": {},
   "outputs": [],
   "source": []
  }
 ],
 "metadata": {
  "kernelspec": {
   "display_name": "Python 3",
   "language": "python",
   "name": "python3"
  },
  "language_info": {
   "codemirror_mode": {
    "name": "ipython",
    "version": 3
   },
   "file_extension": ".py",
   "mimetype": "text/x-python",
   "name": "python",
   "nbconvert_exporter": "python",
   "pygments_lexer": "ipython3",
   "version": "3.7.3"
  }
 },
 "nbformat": 4,
 "nbformat_minor": 2
}
